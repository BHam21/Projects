{
 "cells": [
  {
   "cell_type": "code",
   "execution_count": 1,
   "metadata": {},
   "outputs": [],
   "source": [
    "#imports\n",
    "import pybaseball\n",
    "from pybaseball import statcast\n",
    "import pandas as pd\n",
    "import numpy as np\n",
    "import matplotlib.pyplot as plt\n",
    "import seaborn as sns\n",
    "import warnings\n",
    "warnings.filterwarnings('ignore')\n",
    "pd.set_option('display.max_columns', None)\n",
    "pd.set_option('display.max_rows', None)\n",
    "\n",
    "#vizi settings\n",
    "plt.rcParams['figure.dpi'] = 300\n",
    "plt.rcParams['figure.figsize']= [10,5]\n",
    "plt.rcParams['font.family'] = 'serif'\n",
    "plt.style.use('dark_background')\n",
    "pybaseball.cache.enable()\n",
    "%matplotlib inline"
   ]
  },
  {
   "cell_type": "code",
   "execution_count": 2,
   "metadata": {},
   "outputs": [
    {
     "name": "stdout",
     "output_type": "stream",
     "text": [
      "This is a large query, it may take a moment to complete\n"
     ]
    },
    {
     "name": "stderr",
     "output_type": "stream",
     "text": [
      "100%|██████████| 9/9 [00:51<00:00,  5.75s/it]\n"
     ]
    }
   ],
   "source": [
    "# collect Statcast data from pitches from the start of 2024 season to the current day\n",
    "#make the current day dynamic\n",
    "from datetime import date\n",
    "today = date.today()\n",
    "df = statcast(start_dt='2024-03-28', end_dt=str(today))"
   ]
  },
  {
   "cell_type": "code",
   "execution_count": 3,
   "metadata": {},
   "outputs": [],
   "source": [
    "#create column that is a flag that shows if a pitch resulted in an out or not\n",
    "df['IsOutPitch'] = df['events'].isin(['field_out', 'strikeout', 'grounded_into_double_play', 'fielders_choice_out', 'force_out', 'sac_fly', \n",
    "                                'sac_bunt', 'strikeout_double_play', 'double_play', 'sac_fly_double_play', 'other_out', 'triple_play', 'sac_bunt_double_play']).astype(bool)"
   ]
  },
  {
   "cell_type": "code",
   "execution_count": 4,
   "metadata": {},
   "outputs": [],
   "source": [
    "# group the data by pitch type and player name and count the number of out pitches and total pitches for each group\n",
    "df = df.groupby(['pitch_type', 'player_name'])['IsOutPitch'].agg([('out_pitch_count', 'sum'), ('total_pitches', 'count')]).reset_index()\n",
    "\n",
    "# calculate the out percentage for each group\n",
    "df['out_percentage'] = (df['out_pitch_count'] / df['total_pitches'] * 100).round(2)\n",
    "\n",
    "# filter the dataframe to only include groups with at least min_pitches total pitches\n",
    "df = df[df['total_pitches'] >= df['total_pitches'].mean()]\n",
    "\n",
    "# sort the dataframe by out percentage in descending order\n",
    "df = df.sort_values(by='out_percentage', ascending=False)\n"
   ]
  },
  {
   "cell_type": "code",
   "execution_count": 5,
   "metadata": {},
   "outputs": [
    {
     "data": {
      "text/plain": [
       "{'spreadsheetId': '1Lm9sD5HI6_0pZrWCgfu1S_1wSYHWpxIy61T205MgTp4',\n",
       " 'updatedRange': 'Sheet1!A1:E665',\n",
       " 'updatedRows': 665,\n",
       " 'updatedColumns': 5,\n",
       " 'updatedCells': 3325}"
      ]
     },
     "execution_count": 5,
     "metadata": {},
     "output_type": "execute_result"
    }
   ],
   "source": [
    "import gspread\n",
    "\n",
    "gc = gspread.service_account(filename='filename.json')\n",
    "\n",
    "# Authenticate and open the Google Sheet\n",
    "sheet = gc.open('OutPercentage2024').sheet1\n",
    "\n",
    "# Clear the existing data in the sheet\n",
    "sheet.clear()\n",
    "\n",
    "# Get the data from the pandas dataframe with column headers\n",
    "data = df.to_numpy().tolist()\n",
    "data.insert(0, df.columns.to_list())\n",
    "\n",
    "# Update the Google Sheet with the new data\n",
    "sheet.update('A1', data)"
   ]
  }
 ],
 "metadata": {
  "kernelspec": {
   "display_name": "base",
   "language": "python",
   "name": "python3"
  },
  "language_info": {
   "codemirror_mode": {
    "name": "ipython",
    "version": 3
   },
   "file_extension": ".py",
   "mimetype": "text/x-python",
   "name": "python",
   "nbconvert_exporter": "python",
   "pygments_lexer": "ipython3",
   "version": "3.11.5"
  }
 },
 "nbformat": 4,
 "nbformat_minor": 2
}
